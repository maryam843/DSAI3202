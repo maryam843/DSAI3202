{
 "cells": [
  {
   "cell_type": "markdown",
   "metadata": {},
   "source": [
    "# Imports"
   ]
  },
  {
   "cell_type": "code",
   "execution_count": 1,
   "metadata": {},
   "outputs": [],
   "source": [
    "import multiprocessing\n",
    "import random\n",
    "# import string\n",
    "import time\n",
    "import threading"
   ]
  },
  {
   "cell_type": "markdown",
   "metadata": {},
   "source": [
    "# Functions"
   ]
  },
  {
   "cell_type": "code",
   "execution_count": 2,
   "metadata": {},
   "outputs": [],
   "source": [
    "def generate_and_add_numbers(n: int = 1000):\n",
    "    total = 0\n",
    "    for i in range(n):\n",
    "        total += random.randint(0,1000000)\n",
    "    return total\n",
    "\n",
    "\n",
    "def generate_and_join_letters(n: int = 1000):\n",
    "    letters = ''\n",
    "    for i in range(n):\n",
    "        letters += chr(random.randint(33, 126))\n",
    "        # letters += random.choice(string.ascii_letters + string.digits)\n",
    "    return letters"
   ]
  },
  {
   "cell_type": "markdown",
   "metadata": {},
   "source": [
    "# Sequential Execution"
   ]
  },
  {
   "cell_type": "code",
   "execution_count": 5,
   "metadata": {},
   "outputs": [
    {
     "name": "stdout",
     "output_type": "stream",
     "text": [
      "Starting the Program\n",
      "Exiting the Program\n",
      "It took 6.792587757110596s to execute the tasks.\n"
     ]
    }
   ],
   "source": [
    "print(\"Starting the Program\")\n",
    "total_start_time = time.time()\n",
    "\n",
    "generate_and_add_numbers(int(1e7))\n",
    "generate_and_join_letters(int(1e7))\n",
    "\n",
    "total_end_time = time.time()\n",
    "print(\"Exiting the Program\")\n",
    "sequential_execution_time = total_end_time - total_start_time\n",
    "print(f\"It took {sequential_execution_time}s to execute the tasks.\")"
   ]
  },
  {
   "cell_type": "markdown",
   "metadata": {},
   "source": [
    "# Threads execution"
   ]
  },
  {
   "cell_type": "code",
   "execution_count": 6,
   "metadata": {},
   "outputs": [
    {
     "name": "stdout",
     "output_type": "stream",
     "text": [
      "Starting the  thread program\n",
      "Exiting the thread program\n",
      "It took 6.883254528045654s to execute the tasks with thread.\n"
     ]
    }
   ],
   "source": [
    "print(\"Starting the  thread program\")\n",
    "total_start_time = time.time()\n",
    "\n",
    "thread_numbers = threading.Thread(target=generate_and_add_numbers, args=[int(1e7)])\n",
    "thread_letters = threading.Thread(target=generate_and_join_letters, args=[int(1e7)])\n",
    "\n",
    "thread_numbers.start()\n",
    "thread_letters.start()\n",
    "\n",
    "thread_numbers.join()\n",
    "thread_letters.join()\n",
    "\n",
    "total_end_time = time.time()\n",
    "print(\"Exiting the thread program\")\n",
    "thread_execution_time = total_end_time - total_start_time\n",
    "print(f\"It took {thread_execution_time}s to execute the tasks with thread.\")"
   ]
  },
  {
   "cell_type": "markdown",
   "metadata": {},
   "source": [
    "# Trials with the same threads"
   ]
  },
  {
   "cell_type": "code",
   "execution_count": 7,
   "metadata": {},
   "outputs": [
    {
     "name": "stdout",
     "output_type": "stream",
     "text": [
      "Starting the two threads program for generate numbers\n",
      "Exiting two threads program for generate numbers\n",
      "It took 6.8703978061676025s to execute the tasks with threads.\n"
     ]
    }
   ],
   "source": [
    "print(\"Starting the two threads program for generate numbers\")\n",
    "total_start_time = time.time()\n",
    "\n",
    "thread_numbers = threading.Thread(target=generate_and_add_numbers, args=[int(1e7)])\n",
    "thread_letters = threading.Thread(target=generate_and_add_numbers, args=[int(1e7)])\n",
    "\n",
    "thread_numbers.start()\n",
    "thread_letters.start()\n",
    "\n",
    "thread_numbers.join()\n",
    "thread_letters.join()\n",
    "\n",
    "total_end_time = time.time()\n",
    "print(\"Exiting two threads program for generate numbers\")\n",
    "execution_time = total_end_time - total_start_time\n",
    "print(f\"It took {execution_time}s to execute the tasks with threads.\")"
   ]
  },
  {
   "cell_type": "code",
   "execution_count": 8,
   "metadata": {},
   "outputs": [
    {
     "name": "stdout",
     "output_type": "stream",
     "text": [
      "Starting the two threads program for generate letters\n",
      "Exiting two threads program for generate letters\n",
      "It took 6.948826789855957s to execute the tasks with threads.\n"
     ]
    }
   ],
   "source": [
    "print(\"Starting the two threads program for generate letters\")\n",
    "total_start_time = time.time()\n",
    "\n",
    "thread_numbers = threading.Thread(target=generate_and_add_numbers, args=[int(1e7)])\n",
    "thread_letters = threading.Thread(target=generate_and_add_numbers, args=[int(1e7)])\n",
    "\n",
    "thread_numbers.start()\n",
    "thread_letters.start()\n",
    "\n",
    "thread_numbers.join()\n",
    "thread_letters.join()\n",
    "\n",
    "total_end_time = time.time()\n",
    "print(\"Exiting two threads program for generate letters\")\n",
    "execution_time = total_end_time - total_start_time\n",
    "print(f\"It took {execution_time}s to execute the tasks with threads.\")"
   ]
  },
  {
   "cell_type": "markdown",
   "metadata": {},
   "source": [
    "# Trials With processes"
   ]
  },
  {
   "cell_type": "code",
   "execution_count": 9,
   "metadata": {},
   "outputs": [
    {
     "name": "stdout",
     "output_type": "stream",
     "text": [
      "Starting the two processs program for generate letters\n",
      "Exiting two processs program for generate letters\n",
      "It took 3.4393367767333984s to execute the tasks with processs.\n"
     ]
    }
   ],
   "source": [
    "print(\"Starting the two processs program for generate letters\")\n",
    "total_start_time = time.time()\n",
    "\n",
    "process_numbers = multiprocessing.Process(target=generate_and_add_numbers, args=[int(1e7)])\n",
    "process_letters = multiprocessing.Process(target=generate_and_add_numbers, args=[int(1e7)])\n",
    "\n",
    "process_numbers.start()\n",
    "process_letters.start()\n",
    "\n",
    "process_numbers.join()\n",
    "process_letters.join()\n",
    "\n",
    "total_end_time = time.time()\n",
    "print(\"Exiting two processs program for generate letters\")\n",
    "process_execution_time = total_end_time - total_start_time\n",
    "print(f\"It took {process_execution_time}s to execute the tasks with processs.\")"
   ]
  },
  {
   "cell_type": "code",
   "execution_count": 10,
   "metadata": {},
   "outputs": [],
   "source": [
    "serial = 0.005/2.95"
   ]
  },
  {
   "cell_type": "markdown",
   "metadata": {},
   "source": [
    "# Add your interpretations and conclusions here\n",
    "- Computing the speedups"
   ]
  },
  {
   "cell_type": "code",
   "execution_count": 11,
   "metadata": {},
   "outputs": [
    {
     "name": "stdout",
     "output_type": "stream",
     "text": [
      "The speedup using threads is 0.9868279212158088\n",
      "The speedup using processes is 1.974970233523347\n"
     ]
    }
   ],
   "source": [
    "speedup_thread = sequential_execution_time/thread_execution_time\n",
    "speedup_processes = sequential_execution_time/process_execution_time\n",
    "\n",
    "print(f\"The speedup using threads is {speedup_thread}\")\n",
    "print(f\"The speedup using processes is {speedup_processes}\")"
   ]
  },
  {
   "cell_type": "markdown",
   "metadata": {},
   "source": [
    "- Computing the Efficiency "
   ]
  },
  {
   "cell_type": "code",
   "execution_count": 12,
   "metadata": {},
   "outputs": [
    {
     "name": "stdout",
     "output_type": "stream",
     "text": [
      "The efficiency using threads is 0.2467069803039522\n",
      "The efficiency using processes is 0.49374255838083675\n"
     ]
    }
   ],
   "source": [
    "np = 4\n",
    "efficiency_thread = speedup_thread/np\n",
    "efficiency_processes = speedup_processes/np\n",
    "\n",
    "print(f\"The efficiency using threads is {efficiency_thread}\")\n",
    "print(f\"The efficiency using processes is {efficiency_processes}\")"
   ]
  },
  {
   "cell_type": "markdown",
   "metadata": {},
   "source": [
    "- Amdhal and Gustafson Laws"
   ]
  },
  {
   "cell_type": "code",
   "execution_count": 13,
   "metadata": {},
   "outputs": [
    {
     "name": "stdout",
     "output_type": "stream",
     "text": [
      "99.99999999999991\n"
     ]
    }
   ],
   "source": [
    "P = 0.99\n",
    "amdhal_s=1/(1-P)\n",
    "print(amdhal_s)"
   ]
  },
  {
   "cell_type": "code",
   "execution_count": 14,
   "metadata": {},
   "outputs": [
    {
     "name": "stdout",
     "output_type": "stream",
     "text": [
      "3.9699999999999998\n"
     ]
    }
   ],
   "source": [
    "alpha = 1-0.99\n",
    "gustafson= np - alpha*(np-1)\n",
    "print(gustafson)"
   ]
  }
 ],
 "metadata": {
  "kernelspec": {
   "display_name": "Python 3 (ipykernel)",
   "language": "python",
   "name": "python3"
  },
  "language_info": {
   "codemirror_mode": {
    "name": "ipython",
    "version": 3
   },
   "file_extension": ".py",
   "mimetype": "text/x-python",
   "name": "python",
   "nbconvert_exporter": "python",
   "pygments_lexer": "ipython3",
   "version": "3.12.7"
  }
 },
 "nbformat": 4,
 "nbformat_minor": 4
}
